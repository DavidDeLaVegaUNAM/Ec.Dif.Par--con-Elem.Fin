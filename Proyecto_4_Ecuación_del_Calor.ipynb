{
  "nbformat": 4,
  "nbformat_minor": 0,
  "metadata": {
    "colab": {
      "provenance": [],
      "collapsed_sections": [
        "SPxaEBRXzRpw"
      ]
    },
    "kernelspec": {
      "name": "python3",
      "display_name": "Python 3"
    },
    "language_info": {
      "name": "python"
    }
  },
  "cells": [
    {
      "cell_type": "markdown",
      "metadata": {
        "id": "SPxaEBRXzRpw"
      },
      "source": [
        "# Preeliminares: Elementos Finitos"
      ]
    },
    {
      "cell_type": "markdown",
      "metadata": {
        "id": "yBEEm7pKso4a"
      },
      "source": [
        "## Bibliotecas requeridas"
      ]
    },
    {
      "cell_type": "markdown",
      "metadata": {
        "id": "YkXx3NG7vrZy"
      },
      "source": [
        "Se requiere de\n",
        "* **Numpy**:\n",
        " Para el manejo de vectores y matrices, junto a procedimientos que involucren este tipo de información\n",
        "\n",
        "* **Mathplotlib**:\n",
        "  Se va a utilizar para visualizar la comparación entre los datos de la solución analítica.\n",
        "\n",
        "* **Math**:\n",
        "  Para cualquier operación que se vaya a utilizar"
      ]
    },
    {
      "cell_type": "code",
      "execution_count": 2,
      "metadata": {
        "id": "SBW0HmfQsdA7"
      },
      "outputs": [],
      "source": [
        "import numpy as np\n",
        "import matplotlib.pyplot as plt\n",
        "import math as mt\n",
        "import pandas as pd"
      ]
    },
    {
      "cell_type": "markdown",
      "metadata": {
        "id": "cL_7domLs4nR"
      },
      "source": [
        "## Raíces"
      ]
    },
    {
      "cell_type": "markdown",
      "source": [
        "Calcula los nodos (raíces) y los pesos de la cuadratura de Gauss-Legendre para un polinomio de grado `q`.\n",
        "\n",
        "La cuadratura de Gauss-Legendre se utiliza para evaluar integrales aproximadas con alta precisión al emplear puntos y pesos óptimos definidos sobre el intervalo $[-1, 1]$\n",
        "\n",
        "**Entrada:**\n",
        "* `q :int`\n",
        "\n",
        "Grado del polinomio para el cual se desean calcular las raíces y los pesos. Debe estar en el rango $1 \\leq q \\leq$ 7.\n",
        "\n",
        "**Salida:**\n",
        "\n",
        "* `xq : numpy.ndarray`\n",
        "\n",
        "Un arreglo de `q` valores que representan las raíces (nodos) del polinomio de Legendre en el intervalo $[-1, 1]$.\n",
        "    \n",
        "* `wq : numpy.ndarray`\n",
        "\n",
        "Un arreglo de `q` valores que representan los pesos asociados a cada raíz, utilizados para calcular la integral.\n"
      ],
      "metadata": {
        "id": "_D-WM5KPa5DG"
      }
    },
    {
      "cell_type": "code",
      "execution_count": 3,
      "metadata": {
        "id": "JR8gvOoJs1QA"
      },
      "outputs": [],
      "source": [
        "def p_roots(q):\n",
        "  if q==1:\n",
        "    xq = np.array([0])\n",
        "    wq=np.array([2])\n",
        "  elif q == 2:\n",
        "        xq = np.array([-0.5773502692, 0.5773502692])\n",
        "        wq = np.array([1.0, 1.0])\n",
        "  elif q == 3:\n",
        "        xq = np.array([-0.7745966692, 0.0, 0.7745966692])\n",
        "        wq = np.array([0.5555555556, 0.8888888889, 0.5555555556])\n",
        "  elif q == 4:\n",
        "        xq = np.array([-0.8611363116, -0.339981044, 0.339981044, 0.8611363116])\n",
        "        wq = np.array([0.3478548451, 0.6521451549, 0.6521451549, 0.3478548451])\n",
        "  elif q == 5:\n",
        "        xq = np.array([-0.9061798459, -0.5384693101, 0.0, 0.5384693101, 0.9061798459])\n",
        "        wq = np.array([0.2369268851, 0.4786286705, 0.5688888889, 0.4786286705, 0.2369268851])\n",
        "  elif q == 6:\n",
        "        xq = np.array([-0.9324695142, -0.6612093865, -0.2386191861, 0.2386191861, 0.6612093865, 0.9324695142])\n",
        "        wq = np.array([0.1713244924, 0.3607615730, 0.4679139346, 0.4679139346, 0.3607615730, 0.1713244924])\n",
        "  elif q == 7:\n",
        "        xq = np.array([-0.9491079123, -0.7415311856, -0.4058451514, 0.0, 0.4058451514, 0.7415311856, 0.9491079123])\n",
        "        wq = np.array([0.1294849662, 0.2797053915, 0.3818300505, 0.4179591837, 0.3818300505, 0.2797053915, 0.1294849662])\n",
        "  else:\n",
        "      raise ValueError(\"Solo se permiten valores de grado entre 1 y 7\")\n",
        "  return xq, wq\n"
      ]
    },
    {
      "cell_type": "markdown",
      "metadata": {
        "id": "yERWNsndtF_T"
      },
      "source": [
        "## Cuadratura Gaussiana"
      ]
    },
    {
      "cell_type": "markdown",
      "source": [
        "\n",
        "  La función `gaussian_quad` implementa la fórmula de cuadratura Gauss-Legendre\n",
        "\n",
        "  $$\\int_{-1}^{1}f(x)dx \\approx \\sum_{i =1}^{q}w_{i}f(x_{i})$$\n",
        "  \n",
        "  Ésto evalúa la integral de `f` en el intervalo $[-1, 1]$ mediante los nodos (`xq`) y pesos (`wq`) previamente calculados.\n",
        "\n",
        "**Entrada:**\n",
        "    \n",
        "*    `f : callable`\n",
        "\n",
        "        Función a integrar. Debe ser evaluable en los puntos definidos\n",
        "        por `xq`.\n",
        "*    `xq : numpy.ndarray`\n",
        "\n",
        "        Arreglo que contiene los nodos (raíces) del polinomio de Legendre\n",
        "        en el intervalo [-1, 1].\n",
        "*    `wq : numpy.ndarray`\n",
        "\n",
        "        Arreglo que contiene los pesos asociados a los nodos, calculados\n",
        "        según el grado de la cuadratura.\n",
        "\n",
        "**Salida:**\n",
        "    \n",
        "* `result : float`\n",
        "  Aproximación del valor de la integral definida de `f` en el intervalo $[-1, 1]$\n",
        "\n",
        "    "
      ],
      "metadata": {
        "id": "-pAQuHrKc6Rs"
      }
    },
    {
      "cell_type": "code",
      "execution_count": 4,
      "metadata": {
        "id": "eewgvXV2tim9"
      },
      "outputs": [],
      "source": [
        "def gaussian_quad(f, xq, wq):\n",
        "  result = np.sum(f(xq) * wq)\n",
        "  return result"
      ]
    },
    {
      "cell_type": "markdown",
      "metadata": {
        "id": "3TQNiq5St3KG"
      },
      "source": [
        "## Transformación y su inversa\n"
      ]
    },
    {
      "cell_type": "markdown",
      "source": [
        "### Transformación"
      ],
      "metadata": {
        "id": "DIIgLshh8nXW"
      }
    },
    {
      "cell_type": "markdown",
      "metadata": {
        "id": "wVdxK3sXt_vX"
      },
      "source": [
        "\n",
        "\n",
        "Transforma un intervalo estándar $[-1, 1]$ al intervalo $[a, b]$.\n",
        "Esta transformación lineal es útil para aplicar cuadratura de Gauss en un intervalo arbitrario $[a, b]$, trasladando los nodos de la cuadratura estándar a este nuevo intervalo.\n",
        "\n",
        "$$T(x) :=  \\frac{(b-a)x+(b+a)}{2}$$\n",
        "\n",
        "**Entrada:**\n",
        "    \n",
        "* `x : float o numpy.ndarray`\n",
        "\n",
        "  Punto(s) en el intervalo estándar [-1, 1] que se desea transformar.\n",
        "\n",
        "* ` a : float`\n",
        "\n",
        "  Límite inferior del nuevo intervalo.\n",
        "* ` b : float`\n",
        "\n",
        "  Límite superior del nuevo intervalo.\n",
        "\n",
        "**Salida:**\n",
        "\n",
        "* `float o numpy.ndarray`\n",
        "\n",
        "  Punto(s) transformados al intervalo $[a, b]$.\n",
        "\n",
        "    \n"
      ]
    },
    {
      "cell_type": "code",
      "execution_count": 5,
      "metadata": {
        "id": "tTlntVJxt86o"
      },
      "outputs": [],
      "source": [
        "def T(x,a,b):\n",
        "  return 0.5*(b-a)*x + 0.5*(b+a)"
      ]
    },
    {
      "cell_type": "markdown",
      "source": [
        "### Inversa"
      ],
      "metadata": {
        "id": "edLgxfxz8ciS"
      }
    },
    {
      "cell_type": "markdown",
      "metadata": {
        "id": "MTa46UBauC4z"
      },
      "source": [
        "\n",
        "Transforma un punto del intervalo $[a, b]$ al intervalo estándar $[-1, 1]$. Es la inversa de la transformación `T`. Esto permite trabajar nuevamente en el dominio estándar después de realizar una transformación a $[a, b]$.\n",
        "\n",
        "$$T^{-1}(x) = \\frac{2}{b-a}\\cdot\\left(x-\\frac{a+b}{2}\\right)$$\n",
        "\n",
        "**Entrada:**\n",
        "\n",
        "*    `x : float o numpy.ndarray`\n",
        "\n",
        "        Punto(s) en el intervalo [a, b] que se desea transformar de vuelta a [-1, 1].\n",
        "*    `a : float`\n",
        "\n",
        "        Límite inferior del intervalo original.\n",
        "\n",
        "*    `b : float`\n",
        "\n",
        "        Límite superior del intervalo original.\n",
        "\n",
        "**Salida:**\n",
        "\n",
        "*    `float o numpy.ndarray`\n",
        "\n",
        "  Punto(s) transformados al intervalo estándar $[-1, 1]$\n"
      ]
    },
    {
      "cell_type": "code",
      "execution_count": 6,
      "metadata": {
        "id": "K6QJlgF1uGLv"
      },
      "outputs": [],
      "source": [
        "def T_inv(x,a,b):\n",
        "  return (2/b-a)((x-a)-1)"
      ]
    },
    {
      "cell_type": "markdown",
      "metadata": {
        "id": "VXqnRdqvuPCh"
      },
      "source": [
        "## Definición de los Polinomios de Lagrange"
      ]
    },
    {
      "cell_type": "markdown",
      "metadata": {
        "id": "F-N1LUpqufs7"
      },
      "source": [
        "Los polinomios de Lagrange son una forma de interpolación que usa una serie de puntos $(x_i,y_i)$. La fórmula general para el polinomio $L_{i}(x)$ está dada por\n",
        "\n",
        "$$L_{i}(x):= \\prod_{j=0 \\\\ j\\neq i}^{n} \\frac{x-x_{j}}{x_{i}-x_{j}}$$\n",
        "\n",
        "En este caso, programar los polinomios implica un alto coste computacional, por ende tenemos que definir los polinomios de Lagrange y sus derivadas para $1\\leq P\\leq 3$ en base a consultas, pues con ello se reduce el coste computacional\n",
        "\n"
      ]
    },
    {
      "cell_type": "markdown",
      "metadata": {
        "id": "NZJSMtWPxjWX"
      },
      "source": [
        "### Funciones"
      ]
    },
    {
      "cell_type": "code",
      "execution_count": 7,
      "metadata": {
        "id": "wBqD_oCovGMJ"
      },
      "outputs": [],
      "source": [
        "#Polinomio grado 1\n",
        "f01= lambda x:0.5*(1-x)\n",
        "f11= lambda x:0.5*(1+x)\n",
        "\n",
        "#Polinomio grado 2\n",
        "f02= lambda x:0.5*x*(x-1)\n",
        "f12= lambda x:-x*x + 1\n",
        "f22= lambda x:0.5*x*(x+1)\n",
        "\n",
        "#Polinomio grado 3\n",
        "f03= lambda x:(-9/16)*x**3 + (9/16)*x**2 + (1/16)*x - 1/16\n",
        "f13= lambda x:(27/16)*x**3 -  (9/16)*x**2 - (27/16)*x + 9/16\n",
        "f23= lambda x:(-27/16)*x**3 - (9/16)*x**2 + (27/16)*x + 9/16\n",
        "f33= lambda x:(9/16)*x**3 + (9/16)*x**2 - (1/16)*x - 1/16"
      ]
    },
    {
      "cell_type": "markdown",
      "metadata": {
        "id": "sHXtkd5yvPnZ"
      },
      "source": [
        "### Derivadas"
      ]
    },
    {
      "cell_type": "code",
      "execution_count": 8,
      "metadata": {
        "id": "IuFnlG-mvaLz"
      },
      "outputs": [],
      "source": [
        "#Derivada grado 1\n",
        "df01 = lambda x: -0.5\n",
        "df11 = lambda x: 0.5\n",
        "\n",
        "#Derivada grado 2\n",
        "df02 = lambda x: 0.5 * (2 * x - 1)\n",
        "df12 = lambda x: -2 * x\n",
        "df22 = lambda x: x + 0.5\n",
        "\n",
        "#Derivada grado 3\n",
        "df03 = lambda x: -(27/16)*x**2 + 18/16*x + 1/16\n",
        "df13 = lambda x: (81/16)*x**2 - (18/16)*x - 27/16\n",
        "df23 = lambda x: -(81/16)*x**2 -(18/16)*x + 27/16\n",
        "df33 = lambda x: (27/16)*x**2 + (18/16)*x - 1/16"
      ]
    },
    {
      "cell_type": "markdown",
      "metadata": {
        "id": "8vZ7xv1vvfIn"
      },
      "source": [
        "### Creación de Diccionario"
      ]
    },
    {
      "cell_type": "markdown",
      "metadata": {
        "id": "0n18DhA8xqbS"
      },
      "source": [
        "A partir de los datos sueltos, vamos a juntarlos en dos diccionarios, uno de para los polinomios que es `MD`, y otro para las derivadas (`dMD`)"
      ]
    },
    {
      "cell_type": "code",
      "execution_count": 9,
      "metadata": {
        "id": "CpyZ140yvkAu"
      },
      "outputs": [],
      "source": [
        "#Diccionario de polinomios\n",
        "MD = [\n",
        "    {0: f01, 1: f11},\n",
        "    {0: f02, 1: f12, 2: f22},\n",
        "    {0: f03, 1: f13, 2: f23, 3: f33}\n",
        "]\n",
        "\n",
        "#Diccionario de derivadas\n",
        "dMD = [\n",
        "    {0: df01, 1: df11},\n",
        "    {0: df02, 1: df12, 2: df22},\n",
        "    {0: df03, 1: df13, 2: df23, 3: df33}\n",
        "]"
      ]
    },
    {
      "cell_type": "markdown",
      "metadata": {
        "id": "YQB694iIxFWo"
      },
      "source": [
        "### Función definida de Lagrange y su derivada"
      ]
    },
    {
      "cell_type": "markdown",
      "metadata": {
        "id": "fYzOJK1Kx7d1"
      },
      "source": [
        "Mediante esto, la fnción prácticamente será consultar los datos del diccionario."
      ]
    },
    {
      "cell_type": "markdown",
      "source": [
        "#### Polinomio"
      ],
      "metadata": {
        "id": "6HWutyDdB8k1"
      }
    },
    {
      "cell_type": "markdown",
      "source": [
        " Evalúa el polinomio de Lagrange asociado al índice l y al grado p en el punto x.\n",
        "\n",
        "**Entrada:**\n",
        "*  `x : float`\n",
        "\n",
        "      El punto donde se evaluará el polinomio.\n",
        "\n",
        "*  `l : int`\n",
        "\n",
        "  El índice del polinomio de Lagrange $0 \\leq l \\leq p$.\n",
        "\n",
        "*  `p : int`\n",
        "\n",
        "      El grado del polinomio $1\\leq p \\leq3$.\n",
        "\n",
        "**Salida:**\n",
        "    \n",
        "* `f(x): float`\n",
        "\n",
        "  Valor del polinomio de Lagrange en x."
      ],
      "metadata": {
        "id": "TLNaWjUECALu"
      }
    },
    {
      "cell_type": "code",
      "execution_count": 10,
      "metadata": {
        "id": "bRncezvBxEgl"
      },
      "outputs": [],
      "source": [
        "def L(x,l,p):\n",
        "  f=MD[p-1][l]\n",
        "  return f(x)"
      ]
    },
    {
      "cell_type": "markdown",
      "source": [
        "#### Derivada"
      ],
      "metadata": {
        "id": "fHC3mC9dD0dw"
      }
    },
    {
      "cell_type": "markdown",
      "source": [
        "Evalúa la derivada del polinomio de Lagrange asociado al índice l y al grado p en el punto x.\n",
        "\n",
        "**Entrada:**\n",
        "*  `x : float`\n",
        "\n",
        "  El punto donde se evaluará la derivada.\n",
        "*  `l : int`\n",
        "\n",
        "     El índice del polinomio de Lagrange $0  l \\leq p$\n",
        "*  `p : int`\n",
        "\n",
        "   El grado del polinomio $1 \\leq p \\leq 3$\n",
        "\n",
        "**Salida:**\n",
        "\n",
        "*  `f(x):  float`\n",
        "\n",
        "\n",
        "  Valor de la derivada del polinomio de Lagrange en x.\n"
      ],
      "metadata": {
        "id": "eT19f6MBD39W"
      }
    },
    {
      "cell_type": "code",
      "source": [
        "def dL(x,l,p):\n",
        "  f=dMD[p-1][l]\n",
        "  return f(x)"
      ],
      "metadata": {
        "id": "TgptxkiFBy3L"
      },
      "execution_count": 11,
      "outputs": []
    },
    {
      "cell_type": "markdown",
      "metadata": {
        "id": "REDLsa2Szdt-"
      },
      "source": [
        "## Matrices de Masa y Rigidez"
      ]
    },
    {
      "cell_type": "markdown",
      "metadata": {
        "id": "YxPEEfi029Zy"
      },
      "source": [
        "### Locales"
      ]
    },
    {
      "cell_type": "markdown",
      "metadata": {
        "id": "PbgFq1pY3CmL"
      },
      "source": [
        "#### De Masa\n"
      ]
    },
    {
      "cell_type": "markdown",
      "source": [
        "La matriz de masa local representa integrales de productos entre los polinomios de Lagrange $L_{i}(x)$ y $L_{j}(x)$, evaluados en un elemento. Por lo que el armado está dado por\n",
        "\n",
        "$$M_{ij} = \\int_{-1}^{1}L_{i}(x)\\cdot L_{j}(x)$$\n",
        "\n",
        "La simetría de la matriz se asegura computando una sola vez y asignando ambos valores cuando $M_{ij}\\leftarrow M_{ji}$\n",
        "\n",
        "\n",
        "**Entrada:**\n",
        "\n",
        "* `p : int`\n",
        "\n",
        "Grado del polinomio\n",
        "\n",
        "* `xq, wq: numpy.ndarray`\n",
        "\n",
        "Puntos y pesos de cuadratura de Gauss para la integración\n",
        "\n",
        "**Salida:**\n",
        "* `M : numpy.matrix`\n",
        "\n",
        "Matriz de tamaño $(p+1)\\times (p+1)$\n",
        "\n"
      ],
      "metadata": {
        "id": "V_sHCRGqIfAb"
      }
    },
    {
      "cell_type": "code",
      "execution_count": 12,
      "metadata": {
        "id": "-KEQOJHJzlKq"
      },
      "outputs": [],
      "source": [
        "def M_loc(p, xq, wq):\n",
        "    #Inicializa una matriz local M para el almacenamiento de la matriz de masa\n",
        "    M = np.zeros((p + 1, p + 1))\n",
        "    #Rellena la matriz de masa integrando los productos de las funciones de base de Lagrange\n",
        "    for i in range(p + 1):\n",
        "      for j in range(p + 1):\n",
        "        integrand = lambda x: L(x, i, p) * L(x, j, p)\n",
        "        M[i, j] = gaussian_quad(integrand, xq, wq)\n",
        "        M[j, i] = M[i, j]\n",
        "    return M"
      ]
    },
    {
      "cell_type": "markdown",
      "metadata": {
        "id": "dcSGX4V33ynC"
      },
      "source": [
        "#### De Rigidez"
      ]
    },
    {
      "cell_type": "markdown",
      "source": [
        "Por su parte, la matriz de rigidez local contiene las integrales del producto pero ahora de las derivadas de los polinomios de Lagrange, es totalmente análoga a la de rigidez\n",
        "\n",
        "$$S_{ij} = \\int_{-1}^{1}dL_{i}(x)\\cdot dL_{j}(x)$$\n",
        "\n",
        "\n",
        "**Entrada:**\n",
        "\n",
        "* `p : int`\n",
        "\n",
        "Grado del polinomio\n",
        "\n",
        "* `xq, wq: numpy.ndarray`\n",
        "\n",
        "Puntos y pesos de cuadratura de Gauss para la integración\n",
        "\n",
        "**Salida:**\n",
        "\n",
        "* `S : numpy.matrix`\n",
        "\n",
        "Matriz de tamaño $(p+1)\\times (p+1)$"
      ],
      "metadata": {
        "id": "r1majvjGLnRk"
      }
    },
    {
      "cell_type": "code",
      "execution_count": 13,
      "metadata": {
        "id": "axPrP2_R31-m"
      },
      "outputs": [],
      "source": [
        "def S_loc(p, xq, wq):\n",
        "    # Inicializa una matriz local S para el almacenamiento de la matriz de rigidez\n",
        "    S = np.zeros((p + 1, p + 1))\n",
        "    # Rellena la matriz de rigidez integrando los productos de las derivadas de las funciones de base de Lagrange\n",
        "    for i in range(p + 1):\n",
        "        for j in range(p + 1):\n",
        "            integrand = lambda x: dL(x, i, p) * dL(x, j, p)\n",
        "            S[i, j] = gaussian_quad(integrand, xq, wq)\n",
        "            S[j, i] = S[i, j]\n",
        "    return S"
      ]
    },
    {
      "cell_type": "markdown",
      "metadata": {
        "id": "5j5NqWWQ3-KD"
      },
      "source": [
        "### Globales $M,S$\n"
      ]
    },
    {
      "cell_type": "markdown",
      "source": [
        "**Entrada:**\n",
        "\n",
        "- `p: int`  \n",
        "  Grado del polinomio de base en cada elemento.  \n",
        "\n",
        "- `x: list[float]`  \n",
        "  Lista de coordenadas de los nodos globales que dividen el dominio.  \n",
        "\n",
        "- `xq: list[float]`  \n",
        "  Lista de puntos de cuadratura de Gauss-Legendre normalizados al intervalo $[-1, 1]$.  \n",
        "\n",
        "- `wq: list[float]`\n",
        "  Lista de pesos asociados a los puntos de cuadratura.  \n",
        "\n",
        "\n",
        "\n",
        "**Salida:**\n",
        "\n",
        "\n",
        "- `M: np.ndarray`\n",
        "\n",
        "  Matriz de masa global de dimensiones $(Ne+1) \\times (Ne+1)$  \n",
        "\n",
        "- `S: np.ndarray`\n",
        "\n",
        "  Matriz de rigidez global de dimensiones $(Ne+1) \\times (Ne+1)$.  "
      ],
      "metadata": {
        "id": "x_xWSdTgROTv"
      }
    },
    {
      "cell_type": "code",
      "execution_count": 14,
      "metadata": {
        "id": "leDe0itq4CzE"
      },
      "outputs": [],
      "source": [
        "def MS(p, x, xq, wq):\n",
        "    N = len(x) - 1  # Número de elementos\n",
        "    Ne = N * p  # Número de nodos globales es N*p + 1\n",
        "    M, S = np.zeros((Ne+1, Ne+1)), np.zeros((Ne+1, Ne+1))  # Inicialización de matrices globales\n",
        "\n",
        "    M_local = M_loc(p, xq, wq)\n",
        "    S_local = S_loc(p, xq, wq)\n",
        "    # Ciclo sobre los elementos para ensamblar\n",
        "    for i in range(N):\n",
        "      x_iL = x[i]     # Límite izquierdo del intervalo\n",
        "      x_iR = x[i + 1] # Límite derecho del intervalo\n",
        "      Ji = 0.5 * (x_iR - x_iL)  # Jacobiano del intervalo\n",
        "      S_l = (1 / Ji) * S_local\n",
        "      M_l =  Ji * M_local\n",
        "\n",
        "      # Ensamblado global\n",
        "      start = i * p\n",
        "      end = start + p + 1\n",
        "\n",
        "      # Sumar las matrices locales a las globales en los nodos correspondientes\n",
        "      M[start:end, start:end] +=  M_l\n",
        "      S[start:end, start:end] +=  S_l\n",
        "    return M, S\n"
      ]
    },
    {
      "cell_type": "markdown",
      "metadata": {
        "id": "yQnjRzEc52PE"
      },
      "source": [
        "## Vector b"
      ]
    },
    {
      "cell_type": "markdown",
      "source": [
        "La función `RHS` calcula el vector del lado derecho (RHS, por sus siglas en inglés) global, que aparece en la formulación débil del problema. Este vector representa la contribución de la función fuente $ f $ en todo el dominio discretizado, integrando localmente en cada elemento y ensamblando los resultados en el vector global.\n",
        "\n",
        "El proceso se realiza mediante:\n",
        "\n",
        "1. **Transformación local a global:** Se considera cada elemento del dominio definido por los nodos en `x`, transformando los puntos locales de integración al intervalo global correspondiente usando la función `T`.\n",
        "\n",
        "2. **Cálculo local:** Para cada par de nodos del elemento, se evalúan las contribuciones usando la base de polinomios de Lagrange \\( L \\) y se integran numéricamente mediante cuadratura de Gauss.\n",
        "\n",
        "3. **Ensamblaje global:** Las contribuciones locales de cada elemento se agregan al vector global `b`, tomando en cuenta los índices correspondientes.\n",
        "\n",
        "El resultado es un vector `b` que incorpora las contribuciones de la función \\( f \\) en toda la malla, listo para ser utilizado en la resolución del sistema lineal asociado al problema.\n",
        "\n",
        "\n",
        "\n",
        "**Entrada:**\n",
        "\n",
        "- `f: function`\n",
        "\n",
        "  Función que representa la fuente en el problema (puede depender de \\(x\\)).  \n",
        "\n",
        "- `x: list[float]`\n",
        "\n",
        "  Lista de coordenadas de los nodos globales que dividen el dominio.  \n",
        "\n",
        "- `p: int`\n",
        "\n",
        "  Grado del polinomio de base en cada elemento.  \n",
        "\n",
        "- `xq: list[float]`\n",
        "\n",
        "  Lista de puntos de cuadratura de Gauss-Legendre normalizados al intervalo $[-1, 1]$.  \n",
        "\n",
        "- `wq: list[float]`\n",
        "\n",
        "  Lista de pesos asociados a los puntos de cuadratura.  \n",
        "\n",
        "\n",
        "**Salida:**\n",
        "\n",
        "- `b: np.ndarray`  \n",
        "  Vector del lado derecho (RHS) global de dimensión $(Ne+1)$.  "
      ],
      "metadata": {
        "id": "0zoWOeIMSPXi"
      }
    },
    {
      "cell_type": "code",
      "execution_count": 15,
      "metadata": {
        "id": "ZDugYGBM6Nv2"
      },
      "outputs": [],
      "source": [
        "def RHS(f, x, p, xq, wq):\n",
        "    N = len(x) - 1        # Número de elementos\n",
        "    Ne = N * p            # Número total de nodos (sin contar nodos duplicados)\n",
        "    b = np.zeros(Ne + 1)  # Vector resultado inicializado en ceros\n",
        "\n",
        "    for i in range(N):\n",
        "        start = i * p        # Índice de inicio en el vector b\n",
        "        end = start + p + 1  # Índice de fin en el vector b (p+1 nodos por elemento)\n",
        "\n",
        "        x_iL = x[i]               # Límite izquierdo del intervalo\n",
        "        x_iR = x[i + 1]           # Límite derecho del intervalo\n",
        "        Ji = 0.5 * (x_iR - x_iL)  # Jacobiano del intervalo\n",
        "\n",
        "        b_local = np.zeros(p + 1)  # Vector local para acumulación de resultados\n",
        "\n",
        "        # Cuadratura de Gauss para cada función de base en el intervalo actual\n",
        "        for k in range(p + 1):\n",
        "            # Definimos el integrando fk\n",
        "            fk = lambda w: Ji * f(T(w, x_iL, x_iR)) * L(T(w, x_iL, x_iR), k, p)\n",
        "            # Realizamos la cuadratura de Gauss\n",
        "            b_local[k] = gaussian_quad(fk, xq, wq)\n",
        "\n",
        "        # Acumulamos el resultado en el vector global b\n",
        "        b[start:end] += b_local\n",
        "\n",
        "    return b\n"
      ]
    },
    {
      "cell_type": "markdown",
      "metadata": {
        "id": "SnIp6rwr6uVQ"
      },
      "source": [
        "## Aplicar condiciones de Dirichlet"
      ]
    },
    {
      "cell_type": "markdown",
      "source": [
        "La función `apply_dirichlet_conditions` modifica las matrices y vectores de un sistema lineal para aplicar condiciones de frontera de Dirichlet. Estas condiciones especifican valores fijos en los extremos del dominio, lo que se refleja en los nodos inicial y final de la malla.\n",
        "\n",
        "\n",
        "**Entrada:**\n",
        "\n",
        "- `S: numpy.ndarray`\n",
        "\n",
        "  Matriz de rigidez global del sistema antes de aplicar condiciones de frontera.\n",
        "\n",
        "- `b: numpy.ndarray`\n",
        "\n",
        "  Vector del lado derecho global antes de aplicar condiciones de frontera.  \n",
        "\n",
        "- `left_condition: float`\n",
        "\n",
        "  Valor de la condición de frontera en el extremo izquierdo del dominio.  \n",
        "\n",
        "- `right_condition: float`\n",
        "\n",
        "  Valor de la condición de frontera en el extremo derecho del dominio.  \n",
        "\n",
        "**Salida:**\n",
        "\n",
        "- `S: numpy.ndarray`\n",
        "\n",
        "  Matriz de rigidez modificada para incluir las condiciones de Dirichlet.  \n",
        "\n",
        "- `b: numpy.ndarray`\n",
        "\n",
        "  Vector del lado derecho modificado para incluir las condiciones de Dirichlet."
      ],
      "metadata": {
        "id": "LzrI8xpoTl_H"
      }
    },
    {
      "cell_type": "code",
      "execution_count": 16,
      "metadata": {
        "id": "_NpK6IX_62VL"
      },
      "outputs": [],
      "source": [
        "def apply_dirichlet_conditions(S, b, left_condition, right_condition):\n",
        "    S[0, :] = 0\n",
        "    S[0, 0] = 1\n",
        "    S[-1, :] = 0\n",
        "    S[-1, -1] = 1\n",
        "    b[0] = left_condition\n",
        "    b[-1] = right_condition\n",
        "    return S, b"
      ]
    },
    {
      "cell_type": "markdown",
      "metadata": {
        "id": "yMjnishR64is"
      },
      "source": [
        "## Norma $L^{2}$"
      ]
    },
    {
      "cell_type": "markdown",
      "source": [
        "La función `L2_norm` calcula la norma $L^2$ entre una solución numérica `uk` y una solución exacta `u_exact` sobre un conjunto de puntos `x`. Este cálculo mide la diferencia promedio entre ambas soluciones en el dominio, ponderando la contribución de cada punto.\n",
        "\n",
        "El proceso es:\n",
        "\n",
        "1. **Diferencia cuadrática:** Calcula la diferencia cuadrada entre los valores numéricos y los valores exactos en cada punto del dominio.\n",
        "2. **Pesos trapezoidales:** Ajusta los extremos del dominio con un factor de 0.5 para usar la regla del trapecio, una aproximación común en integrales numéricas.\n",
        "3. **Integración discreta:** Usa los pasos del dominio `dx` y suma las diferencias ponderadas para obtener un valor aproximado de la integral.\n",
        "4. **Raíz cuadrada:** Calcula la raíz cuadrada del resultado para obtener la norma $L^2$, que mide la magnitud del error en el dominio.\n",
        "\n",
        "Esta métrica es particularmente útil en problemas numéricos porque proporciona una medida clara del error acumulado entre la solución numérica y la exacta.\n",
        "\n",
        "**Entrada:**\n",
        "\n",
        "- `uk:numpy.ndarray`  \n",
        "  Vector con la solución numérica evaluada en los puntos del dominio `x`.  \n",
        "- `u_exact:function`  \n",
        "  Función que representa la solución exacta y que puede evaluarse en el dominio `x`.  \n",
        "- `x:numpy.ndarray`  \n",
        "  Vector con los puntos del dominio donde se evalúan las soluciones.  \n",
        "\n",
        "\n",
        "**Salida:**\n",
        "\n",
        "- `L2:float`  \n",
        "  Norma \\(L^2\\) que representa la magnitud del error entre la solución numérica y la solución exacta."
      ],
      "metadata": {
        "id": "2ykZNaQAZM0h"
      }
    },
    {
      "cell_type": "code",
      "execution_count": 17,
      "metadata": {
        "id": "RlE39Hem7C-h"
      },
      "outputs": [],
      "source": [
        "def L2_norm(uk, u_exact, x):\n",
        "    dx = np.max(np.diff(x))\n",
        "    diff = (uk - u_exact) ** 2\n",
        "    l2 = np.ones_like(uk)\n",
        "    l2[0], l2[-1] = 0.5, 0.5\n",
        "    return np.sqrt(dx * np.dot(diff, l2))"
      ]
    },
    {
      "cell_type": "markdown",
      "metadata": {
        "id": "BtJhC9RJIwxI"
      },
      "source": [
        "## Norma $H^{1}_{0}$"
      ]
    },
    {
      "cell_type": "markdown",
      "source": [
        "La función `H1_0_norm` calcula la norma $ H^1_0 $ entre una solución numérica `uk` y una solución exacta `u_exact` sobre un conjunto de puntos `x`. La norma $ H^1_0 $ mide tanto la diferencia entre las funciones como entre sus derivadas, proporcionando una medida más completa del error en el espacio de Sobolev $ H^1_0 $. Este espacio es relevante en problemas donde tanto la solución como sus derivadas tienen importancia, como en métodos de elementos finitos.\n",
        "\n",
        "El cálculo se realiza en dos partes principales:\n",
        "\n",
        "1. **Norma \\(L^2\\) de la solución:** Se calcula la norma \\( L^2 \\) entre `uk` y `u_exact` evaluada en `x`, que mide la diferencia punto a punto entre las soluciones numérica y exacta.\n",
        "   \n",
        "2. **Norma $L^2$ de las derivadas:** Calcula la norma $ L^2 $ entre las derivadas numéricas $( \\nabla uk )$ y exactas ($ \\nabla u_{exact} $) sobre el dominio `x`, usando la función `np.gradient` para obtener derivadas numéricas.\n",
        "\n",
        "El resultado final es la raíz cuadrada de la suma de los cuadrados de estas dos contribuciones, siguiendo la definición estándar de la norma $ H^1_0 $.\n",
        "\n",
        "\n",
        "**Entrada:**\n",
        "\n",
        "- `uk:numpy.ndarray`  \n",
        "  Solución numérica evaluada en los puntos del dominio `x`.  \n",
        "\n",
        "- `u_exact:function`  \n",
        "  Función de la solución exacta que puede evaluarse en el dominio `x`.  \n",
        "\n",
        "- `x:numpy.ndarray`  \n",
        "  Vector con los puntos del dominio donde se evalúan las soluciones.\n",
        "\n",
        "- `xq:numpy.ndarray`  \n",
        "  Puntos de cuadratura de Gauss-Legendre, aunque no se utilizan explícitamente en esta función.  \n",
        "\n",
        "- `wq:numpy.ndarray`  \n",
        "  Pesos de cuadratura de Gauss-Legendre, aunque no se utilizan explícitamente en esta función.  \n",
        "\n",
        "\n",
        "**Salida:**\n",
        "\n",
        "- `H1_0:float`  \n",
        "  Norma $ H^1_0 $ que combina la diferencia en las soluciones y en sus derivadas, proporcionando una medida más completa del error."
      ],
      "metadata": {
        "id": "wvUNZZ0PcgD4"
      }
    },
    {
      "cell_type": "code",
      "execution_count": 18,
      "metadata": {
        "id": "DaudG7WsIBhh"
      },
      "outputs": [],
      "source": [
        "def H_norm(uk, u_exact, y):\n",
        "    r1 = L2_norm(uk, u_exact, y) ** 2 #diferencia entre la aproximacion numérica uk y la solución exacta u(y)\n",
        "    grad_uk = np.gradient(uk, y)\n",
        "    grad_u_exact = np.gradient(u_exact, y)\n",
        "    r2 = L2_norm(grad_uk, grad_u_exact, y) ** 2#diferencia entre las derivadas de uk y u(y),\n",
        "    return np.sqrt(r1 + r2)"
      ]
    },
    {
      "cell_type": "markdown",
      "source": [
        "# Ecuación del calor"
      ],
      "metadata": {
        "id": "MSEvs_8s6Szh"
      }
    },
    {
      "cell_type": "markdown",
      "source": [
        "Sea $\\Omega=(0,\\pi)$ y $\\alpha>0$, consideremos la ecuación del calor en una dimensión:\n",
        "\n",
        "$$u_{t} = \\alpha\\Delta u \\quad (x,t)\\in\\Omega\\times(0,T]$$\n",
        "$$u = u_{0} \\quad x\\in\\Omega\\times\\{0\\}$$\n",
        "$$u=0 \\quad (x,t)\\in\\partial\\Omega\\times[0,T]$$\n",
        "\n",
        "Dónde $$u_{0}(x) = \\sin(x)$$"
      ],
      "metadata": {
        "id": "Zd2ApOXYzxBD"
      }
    },
    {
      "cell_type": "markdown",
      "source": [
        "## Parámetros\n",
        "\n"
      ],
      "metadata": {
        "id": "Q8iJ8On3wrwy"
      }
    },
    {
      "cell_type": "markdown",
      "source": [
        "Los parámetros para hallar la solución numérica son:\n",
        "\n",
        "* $\\alpha:$ Coeficiente de Difusión del Sistema\n",
        "* $T:$ Tiempo final\n",
        "* $N_{x}:$ Número de pasos en el espacio (Mallado Espacial)\n",
        "* $N_{t}:$ Número de pasos en tiempo (Mallado Temporal)\n",
        "* $p:$     Grado del polinomio de Lagrange\n",
        "* $x_{\\min}, x_{\\max}:$ Dominio, que sería el intervalo: $(0,\\pi)$"
      ],
      "metadata": {
        "id": "pZdHWELb055z"
      }
    },
    {
      "cell_type": "code",
      "source": [
        "alpha = 1.0\n",
        "T = 1.0\n",
        "Nx = 20\n",
        "Nt = 100\n",
        "p = 2\n",
        "x_min, x_max = 0, np.pi"
      ],
      "metadata": {
        "id": "RE6VJep9vzma"
      },
      "execution_count": 19,
      "outputs": []
    },
    {
      "cell_type": "markdown",
      "source": [
        "## Condición Inicial"
      ],
      "metadata": {
        "id": "4F-Xeeh3yQ0U"
      }
    },
    {
      "cell_type": "markdown",
      "source": [
        "La solución a la ecuación del calor de manera analítica está dada por\n",
        "\n",
        "$$u(x) = \\sin(x)e^{-\\alpha t}$$\n",
        "\n",
        "Con una condición inicial de\n",
        "\n",
        "$$u_{0}(x) = \\sin(x)$$"
      ],
      "metadata": {
        "id": "D3x5W1uKykWt"
      }
    },
    {
      "cell_type": "code",
      "source": [
        "u0 = lambda x: np.sin(x)\n",
        "u_exact = lambda x, t: np.sin(x) *np.exp(-alpha* t)"
      ],
      "metadata": {
        "id": "97JOgDZyv43C"
      },
      "execution_count": 20,
      "outputs": []
    },
    {
      "cell_type": "markdown",
      "source": [
        "## Discretización (Mallados Espacial y Temporal)"
      ],
      "metadata": {
        "id": "bkLTz7qs1DXP"
      }
    },
    {
      "cell_type": "code",
      "source": [
        "x = np.linspace(x_min, x_max, Nx + 1)   # Nodos espaciales\n",
        "dx = x[1] - x[0]                        # Tamaño del paso espacial\n",
        "dt = T / Nt                             # Tamaño del paso temporal\n",
        "\n",
        "xq , wq = p_roots(p)\n",
        "Ne = Nx * p                                 # Número total de nodos en la malla expandida\n",
        "x_fem = np.linspace(x_min, x_max, Ne + 1)  # Nodos globales"
      ],
      "metadata": {
        "id": "9WN55m3_v8N2"
      },
      "execution_count": 24,
      "outputs": []
    },
    {
      "cell_type": "markdown",
      "source": [
        "## Formulación"
      ],
      "metadata": {
        "id": "WEpvLh-t1cbP"
      }
    },
    {
      "cell_type": "code",
      "source": [
        "M, S = MS(p, x, xq, wq)\n",
        "\n",
        "\n",
        "A = M + alpha * dt * S  # Matriz del sistema\n",
        "u = np.zeros(Ne+1)      # Solución numérica inicial\n",
        "b = np.zeros(Ne+1)       # Vector RHS\n",
        "\n",
        "# Aplicar condiciones iniciales\n",
        "for i in range(Ne + 1):\n",
        "    xi = x_min + i * dx / p\n",
        "    u[i] = u0(xi)\n",
        "\n",
        "# Aplicar condiciones de Dirichlet\n",
        "left_condition, right_condition = 0, 0\n",
        "A, b = apply_dirichlet_conditions(A, b, left_condition, right_condition)\n"
      ],
      "metadata": {
        "id": "pj2Qc_AbwSkt"
      },
      "execution_count": 25,
      "outputs": []
    },
    {
      "cell_type": "markdown",
      "source": [
        "## Euler"
      ],
      "metadata": {
        "id": "7EAmQRu06ZKc"
      }
    },
    {
      "cell_type": "code",
      "source": [
        "u_sol = [u.copy()]\n",
        "for n in range(1, Nt + 1):\n",
        "    t = n * dt\n",
        "    b = M @ u  # Actualización del lado derecho\n",
        "    A, b = apply_dirichlet_conditions(A, b, left_condition, right_condition)\n",
        "    u = np.linalg.solve(A, b)  # Resolver el sistema lineal\n",
        "    u_sol.append(u.copy())\n"
      ],
      "metadata": {
        "id": "Cv8BLpBSweOm"
      },
      "execution_count": 26,
      "outputs": []
    },
    {
      "cell_type": "markdown",
      "source": [
        "## Cálculo de Error y Datos"
      ],
      "metadata": {
        "id": "Tnm_2Fp47h5k"
      }
    },
    {
      "cell_type": "code",
      "source": [
        "# Evaluación del error y estimación del orden de convergencia\n",
        "errors = []\n",
        "for n, u_num in enumerate(u_sol):\n",
        "    t = n * dt\n",
        "    u_ex = np.array([u_exact(xi, t) for xi in x_fem])  # Evaluación en nodos FEM\n",
        "    errors.append(L2_norm(u_num, u_ex, x_fem))\n",
        "\n",
        "# Estimación del EOC\n",
        "eoc_corrected = []\n",
        "for i in range(len(errors) - 1):\n",
        "    if errors[i] > 0 and errors[i + 1] > 0:\n",
        "        eoc_corrected.append(np.log(errors[i + 1] / errors[i]) / np.log(dt))\n",
        "    else:\n",
        "        eoc_corrected.append(None)  # Ignorar casos con errores no válidos\n",
        "\n",
        "# Ajustar el tamaño de EOC para incluir el primer paso\n",
        "eoc_corrected = [None] + eoc_corrected\n",
        "\n",
        "# Crear la tabla de errores y EOC con pandas\n",
        "import pandas as pd\n",
        "\n",
        "time_steps = [n * dt for n in range(len(errors))]  # Tiempos correspondientes a cada paso\n",
        "\n",
        "# Crear DataFrame\n",
        "error_table = pd.DataFrame({\n",
        "    \"Paso Temporal\": range(len(errors)),\n",
        "    \"Tiempo (t)\": time_steps,\n",
        "    \"Error L2\": errors,\n",
        "    \"EOC\": eoc_corrected\n",
        "})\n",
        "\n",
        "# Mostrar la tabla\n",
        "print(error_table)\n",
        "\n",
        "# Gráfica de resultados\n",
        "plt.figure(figsize=(10, 6))\n",
        "times = [0, Nt // 4, Nt // 2, 3 * Nt // 4, Nt]\n",
        "for t_idx in times:\n",
        "    plt.plot(x_fem, u_sol[t_idx], label=f\"Numérica (t={t_idx * dt:.2f})\")\n",
        "    plt.plot(x_fem, [u_exact(xi, t_idx * dt) for xi in x_fem], '--', label=f\"Exacta (t={t_idx * dt:.2f})\")\n",
        "plt.xlabel(\"x\")\n",
        "plt.ylabel(\"u(x, t)\")\n",
        "plt.title(\"Solución de la ecuación del calor en 1D\")\n",
        "plt.legend()\n",
        "plt.show()\n",
        "\n"
      ],
      "metadata": {
        "colab": {
          "base_uri": "https://localhost:8080/",
          "height": 821
        },
        "id": "xavtdmdBwiB1",
        "outputId": "360f9f96-eb13-4a56-d4d5-951c4df0b50f"
      },
      "execution_count": 27,
      "outputs": [
        {
          "output_type": "stream",
          "name": "stdout",
          "text": [
            "     Paso Temporal  Tiempo (t)  Error L2       EOC\n",
            "0                0        0.00  0.000000       NaN\n",
            "1                1        0.01  0.000062       NaN\n",
            "2                2        0.02  0.000122 -0.147757\n",
            "3                3        0.03  0.000182 -0.085685\n",
            "4                4        0.04  0.000240 -0.060206\n",
            "..             ...         ...       ...       ...\n",
            "96              96        0.96  0.002293 -0.000108\n",
            "97              97        0.97  0.002294 -0.000084\n",
            "98              98        0.98  0.002295 -0.000061\n",
            "99              99        0.99  0.002295 -0.000038\n",
            "100            100        1.00  0.002295 -0.000016\n",
            "\n",
            "[101 rows x 4 columns]\n"
          ]
        },
        {
          "output_type": "display_data",
          "data": {
            "text/plain": [
              "<Figure size 1000x600 with 1 Axes>"
            ],
            "image/png": "[encoded data removed]"
          },
          "metadata": {}
        }
      ]
    }
  ]
}
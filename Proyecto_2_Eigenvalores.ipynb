{
  "nbformat": 4,
  "nbformat_minor": 0,
  "metadata": {
    "colab": {
      "provenance": []
    },
    "kernelspec": {
      "name": "python3",
      "display_name": "Python 3"
    },
    "language_info": {
      "name": "python"
    }
  },
  "cells": [
    {
      "cell_type": "markdown",
      "source": [
        "# Proyecto 2: Obtención de eigenvalores de un sistema de ecuaciones"
      ],
      "metadata": {
        "id": "R5ogvA6QEa0o"
      }
    },
    {
      "cell_type": "markdown",
      "metadata": {
        "id": "SPxaEBRXzRpw"
      },
      "source": [
        "# Preeliminares: Elementos Finitos"
      ]
    },
    {
      "cell_type": "markdown",
      "metadata": {
        "id": "yBEEm7pKso4a"
      },
      "source": [
        "## Bibliotecas requeridas"
      ]
    },
    {
      "cell_type": "markdown",
      "metadata": {
        "id": "YkXx3NG7vrZy"
      },
      "source": [
        "Se requiere de\n",
        "* **Numpy**:\n",
        " Para el manejo de vectores y matrices, junto a procedimientos que involucren este tipo de información\n",
        "\n",
        "* **Mathplotlib**:\n",
        "  Se va a utilizar para visualizar la comparación entre los datos de la solución analítica.\n",
        "\n",
        "* **Math**:\n",
        "  Para cualquier operación que se vaya a utilizar\n",
        "\n",
        "* **Pandas**:\n",
        "  Para generar tablas, en este caso, para mostrar resultados\n",
        "\n",
        "* **Scipy.special**:\n",
        "  Permite calcular de forma eficiente y precisa los nodos y pesos de Gauss-Legendre [Nos sirve para comparar]"
      ]
    },
    {
      "cell_type": "code",
      "execution_count": 74,
      "metadata": {
        "id": "SBW0HmfQsdA7"
      },
      "outputs": [],
      "source": [
        "import numpy as np\n",
        "import matplotlib.pyplot as plt\n",
        "import math as mt\n",
        "import pandas as pd\n",
        "from scipy.special import p_roots\n",
        "import scipy.linalg as la\n",
        "\n"
      ]
    },
    {
      "cell_type": "markdown",
      "metadata": {
        "id": "cL_7domLs4nR"
      },
      "source": [
        "## Raíces"
      ]
    },
    {
      "cell_type": "markdown",
      "source": [
        "Calcula los nodos (raíces) y los pesos de la cuadratura de Gauss-Legendre para un polinomio de grado `q`.\n",
        "\n",
        "La cuadratura de Gauss-Legendre se utiliza para evaluar integrales aproximadas con alta precisión al emplear puntos y pesos óptimos definidos sobre el intervalo $[-1, 1]$\n",
        "\n",
        "**Entrada:**\n",
        "* `q :int`\n",
        "\n",
        "Grado del polinomio para el cual se desean calcular las raíces y los pesos. Debe estar en el rango $1 \\leq q \\leq$ 7.\n",
        "\n",
        "**Salida:**\n",
        "\n",
        "* `xq : numpy.ndarray`\n",
        "\n",
        "Un arreglo de `q` valores que representan las raíces (nodos) del polinomio de Legendre en el intervalo $[-1, 1]$.\n",
        "    \n",
        "* `wq : numpy.ndarray`\n",
        "\n",
        "Un arreglo de `q` valores que representan los pesos asociados a cada raíz, utilizados para calcular la integral.\n"
      ],
      "metadata": {
        "id": "_D-WM5KPa5DG"
      }
    },
    {
      "cell_type": "code",
      "execution_count": 61,
      "metadata": {
        "id": "JR8gvOoJs1QA"
      },
      "outputs": [],
      "source": [
        "def p_roots(q):\n",
        "  if q==1:\n",
        "    xq = np.array([0])\n",
        "    wq=np.array([2])\n",
        "  elif q == 2:\n",
        "        xq = np.array([-0.5773502692, 0.5773502692])\n",
        "        wq = np.array([1.0, 1.0])\n",
        "  elif q == 3:\n",
        "        xq = np.array([-0.7745966692, 0.0, 0.7745966692])\n",
        "        wq = np.array([0.5555555556, 0.8888888889, 0.5555555556])\n",
        "  elif q == 4:\n",
        "        xq = np.array([-0.8611363116, -0.339981044, 0.339981044, 0.8611363116])\n",
        "        wq = np.array([0.3478548451, 0.6521451549, 0.6521451549, 0.3478548451])\n",
        "  elif q == 5:\n",
        "        xq = np.array([-0.9061798459, -0.5384693101, 0.0, 0.5384693101, 0.9061798459])\n",
        "        wq = np.array([0.2369268851, 0.4786286705, 0.5688888889, 0.4786286705, 0.2369268851])\n",
        "  elif q == 6:\n",
        "        xq = np.array([-0.9324695142, -0.6612093865, -0.2386191861, 0.2386191861, 0.6612093865, 0.9324695142])\n",
        "        wq = np.array([0.1713244924, 0.3607615730, 0.4679139346, 0.4679139346, 0.3607615730, 0.1713244924])\n",
        "  elif q == 7:\n",
        "        xq = np.array([-0.9491079123, -0.7415311856, -0.4058451514, 0.0, 0.4058451514, 0.7415311856, 0.9491079123])\n",
        "        wq = np.array([0.1294849662, 0.2797053915, 0.3818300505, 0.4179591837, 0.3818300505, 0.2797053915, 0.1294849662])\n",
        "  else:\n",
        "      raise ValueError(\"Solo se permiten valores de grado entre 1 y 7\")\n",
        "  return xq, wq\n"
      ]
    },
    {
      "cell_type": "markdown",
      "metadata": {
        "id": "yERWNsndtF_T"
      },
      "source": [
        "## Cuadratura Gaussiana"
      ]
    },
    {
      "cell_type": "markdown",
      "source": [
        "\n",
        "  La función `gaussian_quad` implementa la fórmula de cuadratura Gauss-Legendre\n",
        "\n",
        "  $$\\int_{-1}^{1}f(x)dx \\approx \\sum_{i =1}^{q}w_{i}f(x_{i})$$\n",
        "  \n",
        "  Ésto evalúa la integral de `f` en el intervalo $[-1, 1]$ mediante los nodos (`xq`) y pesos (`wq`) previamente calculados.\n",
        "\n",
        "**Entrada:**\n",
        "    \n",
        "*    `f : callable`\n",
        "\n",
        "        Función a integrar. Debe ser evaluable en los puntos definidos\n",
        "        por `xq`.\n",
        "*    `xq : numpy.ndarray`\n",
        "\n",
        "        Arreglo que contiene los nodos (raíces) del polinomio de Legendre\n",
        "        en el intervalo [-1, 1].\n",
        "*    `wq : numpy.ndarray`\n",
        "\n",
        "        Arreglo que contiene los pesos asociados a los nodos, calculados\n",
        "        según el grado de la cuadratura.\n",
        "\n",
        "**Salida:**\n",
        "    \n",
        "* `result : float`\n",
        "  Aproximación del valor de la integral definida de `f` en el intervalo $[-1, 1]$\n",
        "\n",
        "    "
      ],
      "metadata": {
        "id": "-pAQuHrKc6Rs"
      }
    },
    {
      "cell_type": "code",
      "execution_count": 62,
      "metadata": {
        "id": "eewgvXV2tim9"
      },
      "outputs": [],
      "source": [
        "def gaussian_quad(f, xq, wq):\n",
        "  result = np.sum(f(xq) * wq)\n",
        "  return result"
      ]
    },
    {
      "cell_type": "markdown",
      "metadata": {
        "id": "3TQNiq5St3KG"
      },
      "source": [
        "## Transformación y su inversa\n"
      ]
    },
    {
      "cell_type": "markdown",
      "source": [
        "### Transformación"
      ],
      "metadata": {
        "id": "DIIgLshh8nXW"
      }
    },
    {
      "cell_type": "markdown",
      "metadata": {
        "id": "wVdxK3sXt_vX"
      },
      "source": [
        "\n",
        "\n",
        "Transforma un intervalo estándar $[-1, 1]$ al intervalo $[a, b]$.\n",
        "Esta transformación lineal es útil para aplicar cuadratura de Gauss en un intervalo arbitrario $[a, b]$, trasladando los nodos de la cuadratura estándar a este nuevo intervalo.\n",
        "\n",
        "$$T(x) :=  \\frac{(b-a)x+(b+a)}{2}$$\n",
        "\n",
        "**Entrada:**\n",
        "    \n",
        "* `x : float o numpy.ndarray`\n",
        "\n",
        "  Punto(s) en el intervalo estándar [-1, 1] que se desea transformar.\n",
        "\n",
        "* ` a : float`\n",
        "\n",
        "  Límite inferior del nuevo intervalo.\n",
        "* ` b : float`\n",
        "\n",
        "  Límite superior del nuevo intervalo.\n",
        "\n",
        "**Salida:**\n",
        "\n",
        "* `float o numpy.ndarray`\n",
        "\n",
        "  Punto(s) transformados al intervalo $[a, b]$.\n",
        "\n",
        "    \n"
      ]
    },
    {
      "cell_type": "code",
      "execution_count": 63,
      "metadata": {
        "id": "tTlntVJxt86o"
      },
      "outputs": [],
      "source": [
        "def T(x,a,b):\n",
        "  return 0.5*(b-a)*x + 0.5*(b+a)"
      ]
    },
    {
      "cell_type": "markdown",
      "source": [
        "### Inversa"
      ],
      "metadata": {
        "id": "edLgxfxz8ciS"
      }
    },
    {
      "cell_type": "markdown",
      "metadata": {
        "id": "MTa46UBauC4z"
      },
      "source": [
        "\n",
        "Transforma un punto del intervalo $[a, b]$ al intervalo estándar $[-1, 1]$. Es la inversa de la transformación `T`. Esto permite trabajar nuevamente en el dominio estándar después de realizar una transformación a $[a, b]$.\n",
        "\n",
        "$$T^{-1}(x) = \\frac{2}{b-a}\\cdot\\left(x-\\frac{a+b}{2}\\right)$$\n",
        "\n",
        "**Entrada:**\n",
        "\n",
        "*    `x : float o numpy.ndarray`\n",
        "\n",
        "        Punto(s) en el intervalo [a, b] que se desea transformar de vuelta a [-1, 1].\n",
        "*    `a : float`\n",
        "\n",
        "        Límite inferior del intervalo original.\n",
        "\n",
        "*    `b : float`\n",
        "\n",
        "        Límite superior del intervalo original.\n",
        "\n",
        "**Salida:**\n",
        "\n",
        "*    `float o numpy.ndarray`\n",
        "\n",
        "  Punto(s) transformados al intervalo estándar $[-1, 1]$\n"
      ]
    },
    {
      "cell_type": "code",
      "execution_count": 64,
      "metadata": {
        "id": "K6QJlgF1uGLv"
      },
      "outputs": [],
      "source": [
        "def T_inv(x,a,b):\n",
        "  return (2/b-a)((x-a)-1)"
      ]
    },
    {
      "cell_type": "markdown",
      "metadata": {
        "id": "VXqnRdqvuPCh"
      },
      "source": [
        "## Definición de los Polinomios de Lagrange"
      ]
    },
    {
      "cell_type": "markdown",
      "metadata": {
        "id": "F-N1LUpqufs7"
      },
      "source": [
        "Los polinomios de Lagrange son una forma de interpolación que usa una serie de puntos $(x_i,y_i)$. La fórmula general para el polinomio $L_{i}(x)$ está dada por\n",
        "\n",
        "$$L_{i}(x):= \\prod_{j=0 \\\\ j\\neq i}^{n} \\frac{x-x_{j}}{x_{i}-x_{j}}$$\n",
        "\n",
        "En este caso, programar los polinomios implica un alto coste computacional, por ende tenemos que definir los polinomios de Lagrange y sus derivadas para $1\\leq P\\leq 3$ en base a consultas, pues con ello se reduce el coste computacional\n",
        "\n"
      ]
    },
    {
      "cell_type": "markdown",
      "metadata": {
        "id": "NZJSMtWPxjWX"
      },
      "source": [
        "### Funciones"
      ]
    },
    {
      "cell_type": "code",
      "execution_count": 65,
      "metadata": {
        "id": "wBqD_oCovGMJ"
      },
      "outputs": [],
      "source": [
        "#Polinomio grado 1\n",
        "f01= lambda x:0.5*(1-x)\n",
        "f11= lambda x:0.5*(1+x)\n",
        "\n",
        "#Polinomio grado 2\n",
        "f02= lambda x:0.5*x*(x-1)\n",
        "f12= lambda x:-x*x + 1\n",
        "f22= lambda x:0.5*x*(x+1)\n",
        "\n",
        "#Polinomio grado 3\n",
        "f03= lambda x:(-9/16)*x**3 + (9/16)*x**2 + (1/16)*x - 1/16\n",
        "f13= lambda x:(27/16)*x**3 -  (9/16)*x**2 - (27/16)*x + 9/16\n",
        "f23= lambda x:(-27/16)*x**3 - (9/16)*x**2 + (27/16)*x + 9/16\n",
        "f33= lambda x:(9/16)*x**3 + (9/16)*x**2 - (1/16)*x - 1/16"
      ]
    },
    {
      "cell_type": "markdown",
      "metadata": {
        "id": "sHXtkd5yvPnZ"
      },
      "source": [
        "### Derivadas"
      ]
    },
    {
      "cell_type": "code",
      "execution_count": 66,
      "metadata": {
        "id": "IuFnlG-mvaLz"
      },
      "outputs": [],
      "source": [
        "#Derivada grado 1\n",
        "df01 = lambda x: -0.5\n",
        "df11 = lambda x: 0.5\n",
        "\n",
        "#Derivada grado 2\n",
        "df02 = lambda x: 0.5 * (2 * x - 1)\n",
        "df12 = lambda x: -2 * x\n",
        "df22 = lambda x: x + 0.5\n",
        "\n",
        "#Derivada grado 3\n",
        "df03 = lambda x: -(27/16)*x**2 + 18/16*x + 1/16\n",
        "df13 = lambda x: (81/16)*x**2 - (18/16)*x - 27/16\n",
        "df23 = lambda x: -(81/16)*x**2 -(18/16)*x + 27/16\n",
        "df33 = lambda x: (27/16)*x**2 + (18/16)*x - 1/16"
      ]
    },
    {
      "cell_type": "markdown",
      "metadata": {
        "id": "8vZ7xv1vvfIn"
      },
      "source": [
        "### Creación de Diccionario"
      ]
    },
    {
      "cell_type": "markdown",
      "metadata": {
        "id": "0n18DhA8xqbS"
      },
      "source": [
        "A partir de los datos sueltos, vamos a juntarlos en dos diccionarios, uno de para los polinomios que es `MD`, y otro para las derivadas (`dMD`)"
      ]
    },
    {
      "cell_type": "code",
      "execution_count": 67,
      "metadata": {
        "id": "CpyZ140yvkAu"
      },
      "outputs": [],
      "source": [
        "#Diccionario de polinomios\n",
        "MD = [\n",
        "    {0: f01, 1: f11},\n",
        "    {0: f02, 1: f12, 2: f22},\n",
        "    {0: f03, 1: f13, 2: f23, 3: f33}\n",
        "]\n",
        "\n",
        "#Diccionario de derivadas\n",
        "dMD = [\n",
        "    {0: df01, 1: df11},\n",
        "    {0: df02, 1: df12, 2: df22},\n",
        "    {0: df03, 1: df13, 2: df23, 3: df33}\n",
        "]"
      ]
    },
    {
      "cell_type": "markdown",
      "metadata": {
        "id": "YQB694iIxFWo"
      },
      "source": [
        "### Función definida de Lagrange y su derivada"
      ]
    },
    {
      "cell_type": "markdown",
      "metadata": {
        "id": "fYzOJK1Kx7d1"
      },
      "source": [
        "Mediante esto, la fnción prácticamente será consultar los datos del diccionario."
      ]
    },
    {
      "cell_type": "markdown",
      "source": [
        "#### Polinomio"
      ],
      "metadata": {
        "id": "6HWutyDdB8k1"
      }
    },
    {
      "cell_type": "markdown",
      "source": [
        " Evalúa el polinomio de Lagrange asociado al índice l y al grado p en el punto x.\n",
        "\n",
        "**Entrada:**\n",
        "*  `x : float`\n",
        "\n",
        "      El punto donde se evaluará el polinomio.\n",
        "\n",
        "*  `l : int`\n",
        "\n",
        "  El índice del polinomio de Lagrange $0 \\leq l \\leq p$.\n",
        "\n",
        "*  `p : int`\n",
        "\n",
        "      El grado del polinomio $1\\leq p \\leq3$.\n",
        "\n",
        "**Salida:**\n",
        "    \n",
        "* `f(x): float`\n",
        "\n",
        "  Valor del polinomio de Lagrange en x."
      ],
      "metadata": {
        "id": "TLNaWjUECALu"
      }
    },
    {
      "cell_type": "code",
      "execution_count": 68,
      "metadata": {
        "id": "bRncezvBxEgl"
      },
      "outputs": [],
      "source": [
        "def L(x,l,p):\n",
        "  f=MD[p-1][l]\n",
        "  return f(x)"
      ]
    },
    {
      "cell_type": "markdown",
      "source": [
        "#### Derivada"
      ],
      "metadata": {
        "id": "fHC3mC9dD0dw"
      }
    },
    {
      "cell_type": "markdown",
      "source": [
        "Evalúa la derivada del polinomio de Lagrange asociado al índice l y al grado p en el punto x.\n",
        "\n",
        "**Entrada:**\n",
        "*  `x : float`\n",
        "\n",
        "  El punto donde se evaluará la derivada.\n",
        "*  `l : int`\n",
        "\n",
        "     El índice del polinomio de Lagrange $0  l \\leq p$\n",
        "*  `p : int`\n",
        "\n",
        "   El grado del polinomio $1 \\leq p \\leq 3$\n",
        "\n",
        "**Salida:**\n",
        "\n",
        "*  `f(x):  float`\n",
        "\n",
        "\n",
        "  Valor de la derivada del polinomio de Lagrange en x.\n"
      ],
      "metadata": {
        "id": "eT19f6MBD39W"
      }
    },
    {
      "cell_type": "code",
      "source": [
        "def dL(x,l,p):\n",
        "  f=dMD[p-1][l]\n",
        "  return f(x)"
      ],
      "metadata": {
        "id": "TgptxkiFBy3L"
      },
      "execution_count": 69,
      "outputs": []
    },
    {
      "cell_type": "markdown",
      "metadata": {
        "id": "REDLsa2Szdt-"
      },
      "source": [
        "## Matrices de Masa y Rigidez"
      ]
    },
    {
      "cell_type": "markdown",
      "metadata": {
        "id": "YxPEEfi029Zy"
      },
      "source": [
        "### Locales"
      ]
    },
    {
      "cell_type": "markdown",
      "metadata": {
        "id": "PbgFq1pY3CmL"
      },
      "source": [
        "#### De Masa\n"
      ]
    },
    {
      "cell_type": "markdown",
      "source": [
        "La matriz de masa local representa integrales de productos entre los polinomios de Lagrange $L_{i}(x)$ y $L_{j}(x)$, evaluados en un elemento. Por lo que el armado está dado por\n",
        "\n",
        "$$M_{ij} = \\int_{-1}^{1}L_{i}(x)\\cdot L_{j}(x)$$\n",
        "\n",
        "La simetría de la matriz se asegura computando una sola vez y asignando ambos valores cuando $M_{ij}\\leftarrow M_{ji}$\n",
        "\n",
        "\n",
        "**Entrada:**\n",
        "\n",
        "* `p : int`\n",
        "\n",
        "Grado del polinomio\n",
        "\n",
        "* `xq, wq: numpy.ndarray`\n",
        "\n",
        "Puntos y pesos de cuadratura de Gauss para la integración\n",
        "\n",
        "**Salida:**\n",
        "* `M : numpy.matrix`\n",
        "\n",
        "Matriz de tamaño $(p+1)\\times (p+1)$\n",
        "\n"
      ],
      "metadata": {
        "id": "V_sHCRGqIfAb"
      }
    },
    {
      "cell_type": "code",
      "execution_count": 70,
      "metadata": {
        "id": "-KEQOJHJzlKq"
      },
      "outputs": [],
      "source": [
        "def M_loc(p, xq, wq):\n",
        "    #Inicializa una matriz local M para el almacenamiento de la matriz de masa\n",
        "    M = np.zeros((p + 1, p + 1))\n",
        "    #Rellena la matriz de masa integrando los productos de las funciones de base de Lagrange\n",
        "    for i in range(p + 1):\n",
        "      for j in range(p + 1):\n",
        "        integrand = lambda x: L(x, i, p) * L(x, j, p)\n",
        "        M[i, j] = gaussian_quad(integrand, xq, wq)\n",
        "        M[j, i] = M[i, j]\n",
        "    return M"
      ]
    },
    {
      "cell_type": "markdown",
      "metadata": {
        "id": "dcSGX4V33ynC"
      },
      "source": [
        "#### De Rigidez"
      ]
    },
    {
      "cell_type": "markdown",
      "source": [
        "Por su parte, la matriz de rigidez local contiene las integrales del producto pero ahora de las derivadas de los polinomios de Lagrange, es totalmente análoga a la de rigidez\n",
        "\n",
        "$$S_{ij} = \\int_{-1}^{1}dL_{i}(x)\\cdot dL_{j}(x)$$\n",
        "\n",
        "\n",
        "**Entrada:**\n",
        "\n",
        "* `p : int`\n",
        "\n",
        "Grado del polinomio\n",
        "\n",
        "* `xq, wq: numpy.ndarray`\n",
        "\n",
        "Puntos y pesos de cuadratura de Gauss para la integración\n",
        "\n",
        "**Salida:**\n",
        "\n",
        "* `S : numpy.matrix`\n",
        "\n",
        "Matriz de tamaño $(p+1)\\times (p+1)$"
      ],
      "metadata": {
        "id": "r1majvjGLnRk"
      }
    },
    {
      "cell_type": "code",
      "execution_count": 71,
      "metadata": {
        "id": "axPrP2_R31-m"
      },
      "outputs": [],
      "source": [
        "def S_loc(p, xq, wq):\n",
        "    # Inicializa una matriz local S para el almacenamiento de la matriz de rigidez\n",
        "    S = np.zeros((p + 1, p + 1))\n",
        "    # Rellena la matriz de rigidez integrando los productos de las derivadas de las funciones de base de Lagrange\n",
        "    for i in range(p + 1):\n",
        "        for j in range(p + 1):\n",
        "            integrand = lambda x: dL(x, i, p) * dL(x, j, p)\n",
        "            S[i, j] = gaussian_quad(integrand, xq, wq)\n",
        "            S[j, i] = S[i, j]\n",
        "    return S"
      ]
    },
    {
      "cell_type": "markdown",
      "metadata": {
        "id": "5j5NqWWQ3-KD"
      },
      "source": [
        "### Globales $M,S$\n"
      ]
    },
    {
      "cell_type": "markdown",
      "source": [
        "**Entrada:**\n",
        "\n",
        "- `p: int`  \n",
        "  Grado del polinomio de base en cada elemento.  \n",
        "\n",
        "- `x: list[float]`  \n",
        "  Lista de coordenadas de los nodos globales que dividen el dominio.  \n",
        "\n",
        "- `xq: list[float]`  \n",
        "  Lista de puntos de cuadratura de Gauss-Legendre normalizados al intervalo $[-1, 1]$.  \n",
        "\n",
        "- `wq: list[float]`\n",
        "  Lista de pesos asociados a los puntos de cuadratura.  \n",
        "\n",
        "\n",
        "\n",
        "**Salida:**\n",
        "\n",
        "\n",
        "- `M: np.ndarray`\n",
        "\n",
        "  Matriz de masa global de dimensiones $(Ne+1) \\times (Ne+1)$  \n",
        "\n",
        "- `S: np.ndarray`\n",
        "\n",
        "  Matriz de rigidez global de dimensiones $(Ne+1) \\times (Ne+1)$.  "
      ],
      "metadata": {
        "id": "x_xWSdTgROTv"
      }
    },
    {
      "cell_type": "code",
      "execution_count": 72,
      "metadata": {
        "id": "leDe0itq4CzE"
      },
      "outputs": [],
      "source": [
        "def MS(p, x, xq, wq):\n",
        "    N = len(x) - 1  # Número de elementos\n",
        "    Ne = N * p  # Número de nodos globales es N*p + 1\n",
        "    M, S = np.zeros((Ne+1, Ne+1)), np.zeros((Ne+1, Ne+1))  # Inicialización de matrices globales\n",
        "\n",
        "    M_local = M_loc(p, xq, wq)\n",
        "    S_local = S_loc(p, xq, wq)\n",
        "\n",
        "    # Ciclo sobre los elementos para ensamblar\n",
        "    for i in range(N):\n",
        "      x_iL = x[i]               # Límite Izq\n",
        "      x_iR = x[i + 1]           # Límite Der\n",
        "      Ji = 0.5 * (x_iR - x_iL)  # Jacobiano del intervalo\n",
        "      S_l = (1 / Ji) * S_local\n",
        "      M_l =  Ji * M_local\n",
        "\n",
        "      # Ensamblado global\n",
        "      start = i * p\n",
        "      end = start + p + 1\n",
        "\n",
        "      # Sumar las matrices locales a las globales en los nodos correspondientes\n",
        "      M[start:end, start:end] +=  M_l\n",
        "      S[start:end, start:end] +=  S_l\n",
        "\n",
        "    # Aplicación de condiciones de frontera de Dirichlet homogéneas\n",
        "    M, S = M[1:-1, 1:-1], S[1:-1, 1:-1]\n",
        "    return M, S\n"
      ]
    },
    {
      "cell_type": "markdown",
      "metadata": {
        "id": "yQnjRzEc52PE"
      },
      "source": [
        "## Vector b"
      ]
    },
    {
      "cell_type": "markdown",
      "source": [
        "La función `RHS` calcula el vector del lado derecho (RHS, por sus siglas en inglés) global, que aparece en la formulación débil del problema. Este vector representa la contribución de la función fuente $ f $ en todo el dominio discretizado, integrando localmente en cada elemento y ensamblando los resultados en el vector global.\n",
        "\n",
        "El proceso se realiza mediante:\n",
        "\n",
        "1. **Transformación local a global:** Se considera cada elemento del dominio definido por los nodos en `x`, transformando los puntos locales de integración al intervalo global correspondiente usando la función `T`.\n",
        "\n",
        "2. **Cálculo local:** Para cada par de nodos del elemento, se evalúan las contribuciones usando la base de polinomios de Lagrange \\( L \\) y se integran numéricamente mediante cuadratura de Gauss.\n",
        "\n",
        "3. **Ensamblaje global:** Las contribuciones locales de cada elemento se agregan al vector global `b`, tomando en cuenta los índices correspondientes.\n",
        "\n",
        "El resultado es un vector `b` que incorpora las contribuciones de la función \\( f \\) en toda la malla, listo para ser utilizado en la resolución del sistema lineal asociado al problema.\n",
        "\n",
        "\n",
        "\n",
        "**Entrada:**\n",
        "\n",
        "- `f: function`\n",
        "\n",
        "  Función que representa la fuente en el problema (puede depender de \\(x\\)).  \n",
        "\n",
        "- `x: list[float]`\n",
        "\n",
        "  Lista de coordenadas de los nodos globales que dividen el dominio.  \n",
        "\n",
        "- `p: int`\n",
        "\n",
        "  Grado del polinomio de base en cada elemento.  \n",
        "\n",
        "- `xq: list[float]`\n",
        "\n",
        "  Lista de puntos de cuadratura de Gauss-Legendre normalizados al intervalo $[-1, 1]$.  \n",
        "\n",
        "- `wq: list[float]`\n",
        "\n",
        "  Lista de pesos asociados a los puntos de cuadratura.  \n",
        "\n",
        "\n",
        "**Salida:**\n",
        "\n",
        "- `b: np.ndarray`  \n",
        "  Vector del lado derecho (RHS) global de dimensión $(Ne+1)$.  "
      ],
      "metadata": {
        "id": "0zoWOeIMSPXi"
      }
    },
    {
      "cell_type": "code",
      "execution_count": 73,
      "metadata": {
        "id": "ZDugYGBM6Nv2"
      },
      "outputs": [],
      "source": [
        "def RHS(f, x, p, xq, wq):\n",
        "    N = len(x) - 1        # Número de elementos\n",
        "    Ne = N * p            # Número total de nodos (sin contar nodos duplicados)\n",
        "    b = np.zeros(Ne + 1)  # Vector resultado inicializado en ceros\n",
        "\n",
        "    for i in range(N):\n",
        "        start = i * p        # Índice de inicio en el vector b\n",
        "        end = start + p + 1  # Índice de fin en el vector b (p+1 nodos por elemento)\n",
        "\n",
        "        x_iL = x[i]               # Límite izquierdo del intervalo\n",
        "        x_iR = x[i + 1]           # Límite derecho del intervalo\n",
        "        Ji = 0.5 * (x_iR - x_iL)  # Jacobiano del intervalo\n",
        "\n",
        "        b_local = np.zeros(p + 1)  # Vector local para acumulación de resultados\n",
        "\n",
        "        # Cuadratura de Gauss para cada función de base en el intervalo actual\n",
        "        for k in range(p + 1):\n",
        "            # Definimos el integrando fk\n",
        "            fk = lambda w: Ji * f(T(w, x_iL, x_iR)) * L(T(w, x_iL, x_iR), k, p)\n",
        "            # Realizamos la cuadratura de Gauss\n",
        "            b_local[k] = gaussian_quad(fk, xq, wq)\n",
        "\n",
        "        # Acumulamos el resultado en el vector global b\n",
        "        b[start:end] += b_local\n",
        "\n",
        "    return b\n"
      ]
    },
    {
      "cell_type": "markdown",
      "source": [
        "# Eigenvalores\n"
      ],
      "metadata": {
        "id": "5osuzc8fFjcZ"
      }
    },
    {
      "cell_type": "markdown",
      "source": [
        "El objetivo del código es el cálculo de los eigenvalores del operador diferencial, buscan resolver el problema:\n",
        "\n",
        "$$Sv = \\lambda M v$$\n",
        "\n",
        "Dónde\n",
        "\n",
        "* $S$ es la matriz de rigidez\n",
        "* $M$ es la matriz de masa\n",
        "* $\\lambda$ son los eigenvalores\n",
        "* $v$ son los eigenvectores asociados.\n",
        "\n",
        "Los valores propios calculados sirven para aproximar el espectro discreto del operador diferencial asociado al problema.\n",
        "\n",
        "Por otro lado, este còdigo nos sirve para evaluar cómo los valores propios convergen a medida que $dx\\rightarrow0$, es decir, que el mallado se refina y se incrementa el grado del polinomio"
      ],
      "metadata": {
        "id": "OijMKpmAGrPx"
      }
    },
    {
      "cell_type": "markdown",
      "source": [
        "### Condiciones Iniciales"
      ],
      "metadata": {
        "id": "jdkSjKrVI5Yp"
      }
    },
    {
      "cell_type": "code",
      "source": [
        "xL=0\n",
        "xR=np.pi\n",
        "q=7\n",
        "xq, wq = p_roots(q)\n",
        "grados=[1,2,3]\n",
        "resultados = []"
      ],
      "metadata": {
        "id": "Y7mVIPApI770"
      },
      "execution_count": 75,
      "outputs": []
    },
    {
      "cell_type": "code",
      "source": [
        "for p in grados:\n",
        "  for k in range(5):\n",
        "    dx= np.pi*(0.5)**(k+3)\n",
        "    N= int((xR-xL)/dx)\n",
        "    x = np.linspace(xL,xR,N+1)\n",
        "    y = np.linspace(xL,xR,(N*p)+1)\n",
        "    M,S = MS(p, y, xq, wq)\n",
        "    #Se calcula los valores propios resolviendo el problema generalizado S v = λ M v\n",
        "\n",
        "    eigenvalores, _ = la.eigh(S, M)\n",
        "    resultados.append({\n",
        "            \"p\": p,\n",
        "            \"k\": k,\n",
        "            \"dx\": dx,\n",
        "            \"λ1\": eigenvalores[0],\n",
        "            \"λ2\": eigenvalores[1],\n",
        "            \"λ3\": eigenvalores[2],\n",
        "            \"λ4\": eigenvalores[3],\n",
        "            \"λ5\": eigenvalores[4],\n",
        "        })\n",
        "\n",
        "\n",
        "# Se crea un DataFrame con los resultados\n",
        "df_resultados = pd.DataFrame(resultados)\n",
        "print(df_resultados)"
      ],
      "metadata": {
        "colab": {
          "base_uri": "https://localhost:8080/"
        },
        "id": "Dblc9gh7H8Ck",
        "outputId": "40cc80f7-29c7-4666-e9af-3681956440ce"
      },
      "execution_count": 76,
      "outputs": [
        {
          "output_type": "stream",
          "name": "stdout",
          "text": [
            "    p  k        dx        λ1        λ2         λ3         λ4         λ5\n",
            "0   1  0  0.392699  1.012916  4.209547  10.080291  19.453667  33.262830\n",
            "1   1  1  0.196350  1.003217  4.051664   9.263131  16.838190  27.064923\n",
            "2   1  2  0.098175  1.000803  4.012867   9.065245  16.206657  25.505923\n",
            "3   1  3  0.049087  1.000201  4.003214   9.016276  16.051470  25.125749\n",
            "4   1  4  0.024544  1.000050  4.000803   9.004067  16.012855  25.031390\n",
            "5   2  0  0.392699  1.000002  4.000131   9.001478  16.008194  25.030734\n",
            "6   2  1  0.196350  1.000000  4.000008   9.000094  16.000524  25.001991\n",
            "7   2  2  0.098175  1.000000  4.000001   9.000006  16.000033  25.000126\n",
            "8   2  3  0.049087  1.000000  4.000000   9.000000  16.000002  25.000008\n",
            "9   2  4  0.024544  1.000000  4.000000   9.000000  16.000000  25.000000\n",
            "10  3  0  0.392699  1.000000  4.000000   9.000000  16.000003  25.000019\n",
            "11  3  1  0.196350  1.000000  4.000000   9.000000  16.000000  25.000000\n",
            "12  3  2  0.098175  1.000000  4.000000   9.000000  16.000000  25.000000\n",
            "13  3  3  0.049087  1.000000  4.000000   9.000000  16.000000  25.000000\n",
            "14  3  4  0.024544  1.000000  4.000000   9.000000  16.000000  25.000000\n"
          ]
        }
      ]
    }
  ]
}